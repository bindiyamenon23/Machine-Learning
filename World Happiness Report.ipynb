{
 "cells": [
  {
   "cell_type": "markdown",
   "metadata": {},
   "source": [
    "#### The dataset here is the Happiness score for different countries based on parameters like 'GDP per capita', 'Social support', 'Healthy life expectancy','Freedom to make life choices', 'Generosity' and 'Perceptions of corruption' for the years 2018 and 2019.\n",
    "\n",
    "#### The objective here is to predict the Happiness score based on these factors.\n",
    "\n",
    "#### Here I will testing the different ML models and will evaluate which model gives the best prediction.\n",
    "\n",
    "#### The dataset for the year 2018 will be used for training the model and for testing I will be using the dataset for the year 2019\n",
    "\n",
    "#### Link to the Dataset: https://www.kaggle.com/unsdsn/world-happiness"
   ]
  },
  {
   "cell_type": "code",
   "execution_count": 2,
   "metadata": {},
   "outputs": [],
   "source": [
    "import numpy as np\n",
    "import pandas as pd\n",
    "import matplotlib.pyplot as plt\n",
    "import seaborn as sns"
   ]
  },
  {
   "cell_type": "code",
   "execution_count": 188,
   "metadata": {},
   "outputs": [],
   "source": [
    "df=pd.read_csv(\"C:/Users/dell/Desktop/Projects/World Happiness Report/2018.csv\")"
   ]
  },
  {
   "cell_type": "markdown",
   "metadata": {},
   "source": [
    "### Data Exploration and fixing the issues"
   ]
  },
  {
   "cell_type": "code",
   "execution_count": 189,
   "metadata": {},
   "outputs": [
    {
     "data": {
      "text/html": [
       "<div>\n",
       "<style scoped>\n",
       "    .dataframe tbody tr th:only-of-type {\n",
       "        vertical-align: middle;\n",
       "    }\n",
       "\n",
       "    .dataframe tbody tr th {\n",
       "        vertical-align: top;\n",
       "    }\n",
       "\n",
       "    .dataframe thead th {\n",
       "        text-align: right;\n",
       "    }\n",
       "</style>\n",
       "<table border=\"1\" class=\"dataframe\">\n",
       "  <thead>\n",
       "    <tr style=\"text-align: right;\">\n",
       "      <th></th>\n",
       "      <th>Overall rank</th>\n",
       "      <th>Country or region</th>\n",
       "      <th>Score</th>\n",
       "      <th>GDP per capita</th>\n",
       "      <th>Social support</th>\n",
       "      <th>Healthy life expectancy</th>\n",
       "      <th>Freedom to make life choices</th>\n",
       "      <th>Generosity</th>\n",
       "      <th>Perceptions of corruption</th>\n",
       "    </tr>\n",
       "  </thead>\n",
       "  <tbody>\n",
       "    <tr>\n",
       "      <th>0</th>\n",
       "      <td>1</td>\n",
       "      <td>Finland</td>\n",
       "      <td>7.632</td>\n",
       "      <td>1.305</td>\n",
       "      <td>1.592</td>\n",
       "      <td>0.874</td>\n",
       "      <td>0.681</td>\n",
       "      <td>0.202</td>\n",
       "      <td>0.393</td>\n",
       "    </tr>\n",
       "    <tr>\n",
       "      <th>1</th>\n",
       "      <td>2</td>\n",
       "      <td>Norway</td>\n",
       "      <td>7.594</td>\n",
       "      <td>1.456</td>\n",
       "      <td>1.582</td>\n",
       "      <td>0.861</td>\n",
       "      <td>0.686</td>\n",
       "      <td>0.286</td>\n",
       "      <td>0.340</td>\n",
       "    </tr>\n",
       "    <tr>\n",
       "      <th>2</th>\n",
       "      <td>3</td>\n",
       "      <td>Denmark</td>\n",
       "      <td>7.555</td>\n",
       "      <td>1.351</td>\n",
       "      <td>1.590</td>\n",
       "      <td>0.868</td>\n",
       "      <td>0.683</td>\n",
       "      <td>0.284</td>\n",
       "      <td>0.408</td>\n",
       "    </tr>\n",
       "    <tr>\n",
       "      <th>3</th>\n",
       "      <td>4</td>\n",
       "      <td>Iceland</td>\n",
       "      <td>7.495</td>\n",
       "      <td>1.343</td>\n",
       "      <td>1.644</td>\n",
       "      <td>0.914</td>\n",
       "      <td>0.677</td>\n",
       "      <td>0.353</td>\n",
       "      <td>0.138</td>\n",
       "    </tr>\n",
       "    <tr>\n",
       "      <th>4</th>\n",
       "      <td>5</td>\n",
       "      <td>Switzerland</td>\n",
       "      <td>7.487</td>\n",
       "      <td>1.420</td>\n",
       "      <td>1.549</td>\n",
       "      <td>0.927</td>\n",
       "      <td>0.660</td>\n",
       "      <td>0.256</td>\n",
       "      <td>0.357</td>\n",
       "    </tr>\n",
       "  </tbody>\n",
       "</table>\n",
       "</div>"
      ],
      "text/plain": [
       "   Overall rank Country or region  Score  GDP per capita  Social support  \\\n",
       "0             1           Finland  7.632           1.305           1.592   \n",
       "1             2            Norway  7.594           1.456           1.582   \n",
       "2             3           Denmark  7.555           1.351           1.590   \n",
       "3             4           Iceland  7.495           1.343           1.644   \n",
       "4             5       Switzerland  7.487           1.420           1.549   \n",
       "\n",
       "   Healthy life expectancy  Freedom to make life choices  Generosity  \\\n",
       "0                    0.874                         0.681       0.202   \n",
       "1                    0.861                         0.686       0.286   \n",
       "2                    0.868                         0.683       0.284   \n",
       "3                    0.914                         0.677       0.353   \n",
       "4                    0.927                         0.660       0.256   \n",
       "\n",
       "   Perceptions of corruption  \n",
       "0                      0.393  \n",
       "1                      0.340  \n",
       "2                      0.408  \n",
       "3                      0.138  \n",
       "4                      0.357  "
      ]
     },
     "execution_count": 189,
     "metadata": {},
     "output_type": "execute_result"
    }
   ],
   "source": [
    "df.head()"
   ]
  },
  {
   "cell_type": "code",
   "execution_count": 190,
   "metadata": {},
   "outputs": [],
   "source": [
    "df.drop([\"Country or region\",\"Score\"],1,inplace=True)"
   ]
  },
  {
   "cell_type": "code",
   "execution_count": 107,
   "metadata": {},
   "outputs": [
    {
     "data": {
      "text/plain": [
       "Overall rank                    0\n",
       "Score                           0\n",
       "GDP per capita                  0\n",
       "Social support                  0\n",
       "Healthy life expectancy         0\n",
       "Freedom to make life choices    0\n",
       "Generosity                      0\n",
       "Perceptions of corruption       1\n",
       "dtype: int64"
      ]
     },
     "execution_count": 107,
     "metadata": {},
     "output_type": "execute_result"
    }
   ],
   "source": [
    "df.isnull().sum()"
   ]
  },
  {
   "cell_type": "code",
   "execution_count": 191,
   "metadata": {},
   "outputs": [],
   "source": [
    "# Null Value Imputation\n",
    "\n",
    "df.loc[df[\"Perceptions of corruption\"].isnull(),\"Perceptions of corruption\"]=df[\"Perceptions of corruption\"].quantile(0.5)"
   ]
  },
  {
   "cell_type": "code",
   "execution_count": 128,
   "metadata": {},
   "outputs": [
    {
     "data": {
      "text/html": [
       "<div>\n",
       "<style scoped>\n",
       "    .dataframe tbody tr th:only-of-type {\n",
       "        vertical-align: middle;\n",
       "    }\n",
       "\n",
       "    .dataframe tbody tr th {\n",
       "        vertical-align: top;\n",
       "    }\n",
       "\n",
       "    .dataframe thead th {\n",
       "        text-align: right;\n",
       "    }\n",
       "</style>\n",
       "<table border=\"1\" class=\"dataframe\">\n",
       "  <thead>\n",
       "    <tr style=\"text-align: right;\">\n",
       "      <th></th>\n",
       "      <th>Overall rank</th>\n",
       "      <th>GDP per capita</th>\n",
       "      <th>Social support</th>\n",
       "      <th>Healthy life expectancy</th>\n",
       "      <th>Freedom to make life choices</th>\n",
       "      <th>Generosity</th>\n",
       "      <th>Perceptions of corruption</th>\n",
       "    </tr>\n",
       "  </thead>\n",
       "  <tbody>\n",
       "    <tr>\n",
       "      <th>count</th>\n",
       "      <td>156.000000</td>\n",
       "      <td>156.000000</td>\n",
       "      <td>156.000000</td>\n",
       "      <td>156.000000</td>\n",
       "      <td>156.000000</td>\n",
       "      <td>156.000000</td>\n",
       "      <td>156.000000</td>\n",
       "    </tr>\n",
       "    <tr>\n",
       "      <th>mean</th>\n",
       "      <td>78.500000</td>\n",
       "      <td>0.891449</td>\n",
       "      <td>1.213237</td>\n",
       "      <td>0.597346</td>\n",
       "      <td>0.454506</td>\n",
       "      <td>0.181006</td>\n",
       "      <td>0.111808</td>\n",
       "    </tr>\n",
       "    <tr>\n",
       "      <th>std</th>\n",
       "      <td>45.177428</td>\n",
       "      <td>0.391921</td>\n",
       "      <td>0.302372</td>\n",
       "      <td>0.247579</td>\n",
       "      <td>0.162424</td>\n",
       "      <td>0.098471</td>\n",
       "      <td>0.096210</td>\n",
       "    </tr>\n",
       "    <tr>\n",
       "      <th>min</th>\n",
       "      <td>1.000000</td>\n",
       "      <td>0.000000</td>\n",
       "      <td>0.000000</td>\n",
       "      <td>0.000000</td>\n",
       "      <td>0.000000</td>\n",
       "      <td>0.000000</td>\n",
       "      <td>0.000000</td>\n",
       "    </tr>\n",
       "    <tr>\n",
       "      <th>25%</th>\n",
       "      <td>39.750000</td>\n",
       "      <td>0.616250</td>\n",
       "      <td>1.066750</td>\n",
       "      <td>0.422250</td>\n",
       "      <td>0.356000</td>\n",
       "      <td>0.109500</td>\n",
       "      <td>0.051000</td>\n",
       "    </tr>\n",
       "    <tr>\n",
       "      <th>50%</th>\n",
       "      <td>78.500000</td>\n",
       "      <td>0.949500</td>\n",
       "      <td>1.255000</td>\n",
       "      <td>0.644000</td>\n",
       "      <td>0.487000</td>\n",
       "      <td>0.174000</td>\n",
       "      <td>0.082000</td>\n",
       "    </tr>\n",
       "    <tr>\n",
       "      <th>75%</th>\n",
       "      <td>117.250000</td>\n",
       "      <td>1.197750</td>\n",
       "      <td>1.463000</td>\n",
       "      <td>0.777250</td>\n",
       "      <td>0.578500</td>\n",
       "      <td>0.239000</td>\n",
       "      <td>0.136500</td>\n",
       "    </tr>\n",
       "    <tr>\n",
       "      <th>max</th>\n",
       "      <td>156.000000</td>\n",
       "      <td>2.096000</td>\n",
       "      <td>1.644000</td>\n",
       "      <td>1.030000</td>\n",
       "      <td>0.724000</td>\n",
       "      <td>0.598000</td>\n",
       "      <td>0.457000</td>\n",
       "    </tr>\n",
       "  </tbody>\n",
       "</table>\n",
       "</div>"
      ],
      "text/plain": [
       "       Overall rank  GDP per capita  Social support  Healthy life expectancy  \\\n",
       "count    156.000000      156.000000      156.000000               156.000000   \n",
       "mean      78.500000        0.891449        1.213237                 0.597346   \n",
       "std       45.177428        0.391921        0.302372                 0.247579   \n",
       "min        1.000000        0.000000        0.000000                 0.000000   \n",
       "25%       39.750000        0.616250        1.066750                 0.422250   \n",
       "50%       78.500000        0.949500        1.255000                 0.644000   \n",
       "75%      117.250000        1.197750        1.463000                 0.777250   \n",
       "max      156.000000        2.096000        1.644000                 1.030000   \n",
       "\n",
       "       Freedom to make life choices  Generosity  Perceptions of corruption  \n",
       "count                    156.000000  156.000000                 156.000000  \n",
       "mean                       0.454506    0.181006                   0.111808  \n",
       "std                        0.162424    0.098471                   0.096210  \n",
       "min                        0.000000    0.000000                   0.000000  \n",
       "25%                        0.356000    0.109500                   0.051000  \n",
       "50%                        0.487000    0.174000                   0.082000  \n",
       "75%                        0.578500    0.239000                   0.136500  \n",
       "max                        0.724000    0.598000                   0.457000  "
      ]
     },
     "execution_count": 128,
     "metadata": {},
     "output_type": "execute_result"
    }
   ],
   "source": [
    "df.describe()"
   ]
  },
  {
   "cell_type": "code",
   "execution_count": 192,
   "metadata": {},
   "outputs": [
    {
     "data": {
      "text/plain": [
       "Index(['Overall rank', 'GDP per capita', 'Social support',\n",
       "       'Healthy life expectancy', 'Freedom to make life choices', 'Generosity',\n",
       "       'Perceptions of corruption'],\n",
       "      dtype='object')"
      ]
     },
     "execution_count": 192,
     "metadata": {},
     "output_type": "execute_result"
    }
   ],
   "source": [
    "df.columns"
   ]
  },
  {
   "cell_type": "code",
   "execution_count": 130,
   "metadata": {},
   "outputs": [
    {
     "data": {
      "text/plain": [
       "(156, 7)"
      ]
     },
     "execution_count": 130,
     "metadata": {},
     "output_type": "execute_result"
    }
   ],
   "source": [
    "df.shape"
   ]
  },
  {
   "cell_type": "code",
   "execution_count": 193,
   "metadata": {},
   "outputs": [],
   "source": [
    "# Replacing the min_values with the 1% value as all are equal to zero\n",
    "\n",
    "for i in ['GDP per capita', 'Social support', 'Healthy life expectancy',\n",
    "       'Freedom to make life choices', 'Generosity',\n",
    "       'Perceptions of corruption']:\n",
    "    df.loc[df[i]==0,i]=df[i].quantile(0.1)"
   ]
  },
  {
   "cell_type": "code",
   "execution_count": 194,
   "metadata": {},
   "outputs": [
    {
     "name": "stdout",
     "output_type": "stream",
     "text": [
      " Skewness of the column : GDP per capita is -0.17689944601351626 \n",
      "\n",
      " Skewness of the column : Social support is -0.8359465837270937 \n",
      "\n",
      " Skewness of the column : Healthy life expectancy is -0.4899335700242845 \n",
      "\n",
      " Skewness of the column : Freedom to make life choices is -0.7305287650875524 \n",
      "\n",
      " Skewness of the column : Generosity is 0.9016561158300629 \n",
      "\n",
      " Skewness of the column : Perceptions of corruption is 1.7099905297242803 \n",
      "\n"
     ]
    }
   ],
   "source": [
    "for i in ['GDP per capita', 'Social support', 'Healthy life expectancy',\n",
    "       'Freedom to make life choices', 'Generosity',\n",
    "       'Perceptions of corruption']:\n",
    "    print(f' Skewness of the column : {i} is {df[i].skew()}',\"\\n\")"
   ]
  },
  {
   "cell_type": "code",
   "execution_count": 195,
   "metadata": {},
   "outputs": [],
   "source": [
    "# NORMALIZING THE DATA WITH SKEW > 0.5\n",
    "\n",
    "from scipy.stats import boxcox\n",
    "from scipy.special import inv_boxcox\n",
    "\n",
    "social_support,social_support_lam=boxcox(df[\"Social support\"])\n",
    "\n",
    "life_Choices,life_choices_lam=boxcox(df[\"Freedom to make life choices\"])\n",
    "\n",
    "Generosity,Generosity_lam=boxcox(df.Generosity)\n",
    "\n",
    "corruption,corruption_lam=boxcox(df[\"Perceptions of corruption\"])\n",
    "\n"
   ]
  },
  {
   "cell_type": "code",
   "execution_count": 196,
   "metadata": {},
   "outputs": [],
   "source": [
    "df[\"Social support\"]=social_support"
   ]
  },
  {
   "cell_type": "code",
   "execution_count": 197,
   "metadata": {},
   "outputs": [],
   "source": [
    "df[\"Freedom to make life choices\"]=life_Choices"
   ]
  },
  {
   "cell_type": "code",
   "execution_count": 198,
   "metadata": {},
   "outputs": [],
   "source": [
    "df.Generosity=Generosity"
   ]
  },
  {
   "cell_type": "code",
   "execution_count": 199,
   "metadata": {},
   "outputs": [],
   "source": [
    "df[\"Perceptions of corruption\"]=corruption"
   ]
  },
  {
   "cell_type": "code",
   "execution_count": 200,
   "metadata": {},
   "outputs": [
    {
     "name": "stdout",
     "output_type": "stream",
     "text": [
      " Skewness of the column : GDP per capita is -0.17689944601351626 \n",
      "\n",
      " Skewness of the column : Social support is -0.2593741319172009 \n",
      "\n",
      " Skewness of the column : Healthy life expectancy is -0.4899335700242845 \n",
      "\n",
      " Skewness of the column : Freedom to make life choices is -0.3230041127792257 \n",
      "\n",
      " Skewness of the column : Generosity is -0.02643861245023 \n",
      "\n",
      " Skewness of the column : Perceptions of corruption is 0.038973697112227416 \n",
      "\n"
     ]
    }
   ],
   "source": [
    "for i in ['GDP per capita', 'Social support', 'Healthy life expectancy',\n",
    "       'Freedom to make life choices', 'Generosity',\n",
    "       'Perceptions of corruption']:\n",
    "    print(f' Skewness of the column : {i} is {df[i].skew()}',\"\\n\")"
   ]
  },
  {
   "cell_type": "code",
   "execution_count": 201,
   "metadata": {},
   "outputs": [
    {
     "data": {
      "image/png": "[encoded data removed]",
      "text/plain": [
       "<Figure size 864x576 with 2 Axes>"
      ]
     },
     "metadata": {
      "needs_background": "light"
     },
     "output_type": "display_data"
    }
   ],
   "source": [
    "plt.figure(figsize=(12,8))\n",
    "sns.heatmap(df.corr(),annot=True)\n",
    "\n",
    "plt.show()"
   ]
  },
  {
   "cell_type": "raw",
   "metadata": {},
   "source": [
    "Almost all features are highly correlated with the score. Hence, I am not implementing any feature selection methods."
   ]
  },
  {
   "cell_type": "markdown",
   "metadata": {},
   "source": [
    "##### To implement a Linear Regression model, the assumptions of Normality, Linearity, Homoscacity, Multicollinearity, Auto correlation should be satisfied"
   ]
  },
  {
   "cell_type": "raw",
   "metadata": {},
   "source": [
    "Normality: The input features should be normal >> Condition satisfied from the skew values"
   ]
  },
  {
   "cell_type": "markdown",
   "metadata": {},
   "source": [
    "##### Building an OLS model to check the significance of the features and check for other assumptions"
   ]
  },
  {
   "cell_type": "raw",
   "metadata": {},
   "source": [
    "I will not be scaling the input features as I would like to check by what proportion the  \"Happiness score\" is influenced by the input features"
   ]
  },
  {
   "cell_type": "code",
   "execution_count": 140,
   "metadata": {},
   "outputs": [
    {
     "data": {
      "text/plain": [
       "Index(['Overall rank', 'GDP per capita', 'Social support',\n",
       "       'Healthy life expectancy', 'Freedom to make life choices', 'Generosity',\n",
       "       'Perceptions of corruption'],\n",
       "      dtype='object')"
      ]
     },
     "execution_count": 140,
     "metadata": {},
     "output_type": "execute_result"
    }
   ],
   "source": [
    "df.columns"
   ]
  },
  {
   "cell_type": "code",
   "execution_count": 141,
   "metadata": {},
   "outputs": [
    {
     "data": {
      "text/html": [
       "<table class=\"simpletable\">\n",
       "<caption>OLS Regression Results</caption>\n",
       "<tr>\n",
       "  <th>Dep. Variable:</th>      <td>Overall rank</td>   <th>  R-squared:         </th> <td>   0.795</td>\n",
       "</tr>\n",
       "<tr>\n",
       "  <th>Model:</th>                   <td>OLS</td>       <th>  Adj. R-squared:    </th> <td>   0.787</td>\n",
       "</tr>\n",
       "<tr>\n",
       "  <th>Method:</th>             <td>Least Squares</td>  <th>  F-statistic:       </th> <td>   96.19</td>\n",
       "</tr>\n",
       "<tr>\n",
       "  <th>Date:</th>             <td>Wed, 14 Oct 2020</td> <th>  Prob (F-statistic):</th> <td>1.05e-48</td>\n",
       "</tr>\n",
       "<tr>\n",
       "  <th>Time:</th>                 <td>10:17:39</td>     <th>  Log-Likelihood:    </th> <td> -691.77</td>\n",
       "</tr>\n",
       "<tr>\n",
       "  <th>No. Observations:</th>      <td>   156</td>      <th>  AIC:               </th> <td>   1398.</td>\n",
       "</tr>\n",
       "<tr>\n",
       "  <th>Df Residuals:</th>          <td>   149</td>      <th>  BIC:               </th> <td>   1419.</td>\n",
       "</tr>\n",
       "<tr>\n",
       "  <th>Df Model:</th>              <td>     6</td>      <th>                     </th>     <td> </td>   \n",
       "</tr>\n",
       "<tr>\n",
       "  <th>Covariance Type:</th>      <td>nonrobust</td>    <th>                     </th>     <td> </td>   \n",
       "</tr>\n",
       "</table>\n",
       "<table class=\"simpletable\">\n",
       "<tr>\n",
       "                <td></td>                  <th>coef</th>     <th>std err</th>      <th>t</th>      <th>P>|t|</th>  <th>[0.025</th>    <th>0.975]</th>  \n",
       "</tr>\n",
       "<tr>\n",
       "  <th>const</th>                        <td>  103.8211</td> <td>   12.052</td> <td>    8.615</td> <td> 0.000</td> <td>   80.007</td> <td>  127.635</td>\n",
       "</tr>\n",
       "<tr>\n",
       "  <th>GDP per capita</th>               <td>  -44.7606</td> <td>    8.444</td> <td>   -5.301</td> <td> 0.000</td> <td>  -61.445</td> <td>  -28.076</td>\n",
       "</tr>\n",
       "<tr>\n",
       "  <th>Social support</th>               <td>  -39.6642</td> <td>    7.495</td> <td>   -5.292</td> <td> 0.000</td> <td>  -54.475</td> <td>  -24.854</td>\n",
       "</tr>\n",
       "<tr>\n",
       "  <th>Healthy life expectancy</th>      <td>  -35.8360</td> <td>   13.201</td> <td>   -2.715</td> <td> 0.007</td> <td>  -61.922</td> <td>   -9.750</td>\n",
       "</tr>\n",
       "<tr>\n",
       "  <th>Freedom to make life choices</th> <td>  -80.0757</td> <td>   20.653</td> <td>   -3.877</td> <td> 0.000</td> <td> -120.886</td> <td>  -39.266</td>\n",
       "</tr>\n",
       "<tr>\n",
       "  <th>Generosity</th>                   <td>   -7.8916</td> <td>    7.024</td> <td>   -1.124</td> <td> 0.263</td> <td>  -21.771</td> <td>    5.988</td>\n",
       "</tr>\n",
       "<tr>\n",
       "  <th>Perceptions of corruption</th>    <td>   -0.8605</td> <td>    3.792</td> <td>   -0.227</td> <td> 0.821</td> <td>   -8.353</td> <td>    6.632</td>\n",
       "</tr>\n",
       "</table>\n",
       "<table class=\"simpletable\">\n",
       "<tr>\n",
       "  <th>Omnibus:</th>       <td> 2.108</td> <th>  Durbin-Watson:     </th> <td>   1.616</td>\n",
       "</tr>\n",
       "<tr>\n",
       "  <th>Prob(Omnibus):</th> <td> 0.349</td> <th>  Jarque-Bera (JB):  </th> <td>   1.710</td>\n",
       "</tr>\n",
       "<tr>\n",
       "  <th>Skew:</th>          <td> 0.240</td> <th>  Prob(JB):          </th> <td>   0.425</td>\n",
       "</tr>\n",
       "<tr>\n",
       "  <th>Kurtosis:</th>      <td> 3.182</td> <th>  Cond. No.          </th> <td>    36.9</td>\n",
       "</tr>\n",
       "</table><br/><br/>Warnings:<br/>[1] Standard Errors assume that the covariance matrix of the errors is correctly specified."
      ],
      "text/plain": [
       "<class 'statsmodels.iolib.summary.Summary'>\n",
       "\"\"\"\n",
       "                            OLS Regression Results                            \n",
       "==============================================================================\n",
       "Dep. Variable:           Overall rank   R-squared:                       0.795\n",
       "Model:                            OLS   Adj. R-squared:                  0.787\n",
       "Method:                 Least Squares   F-statistic:                     96.19\n",
       "Date:                Wed, 14 Oct 2020   Prob (F-statistic):           1.05e-48\n",
       "Time:                        10:17:39   Log-Likelihood:                -691.77\n",
       "No. Observations:                 156   AIC:                             1398.\n",
       "Df Residuals:                     149   BIC:                             1419.\n",
       "Df Model:                           6                                         \n",
       "Covariance Type:            nonrobust                                         \n",
       "================================================================================================\n",
       "                                   coef    std err          t      P>|t|      [0.025      0.975]\n",
       "------------------------------------------------------------------------------------------------\n",
       "const                          103.8211     12.052      8.615      0.000      80.007     127.635\n",
       "GDP per capita                 -44.7606      8.444     -5.301      0.000     -61.445     -28.076\n",
       "Social support                 -39.6642      7.495     -5.292      0.000     -54.475     -24.854\n",
       "Healthy life expectancy        -35.8360     13.201     -2.715      0.007     -61.922      -9.750\n",
       "Freedom to make life choices   -80.0757     20.653     -3.877      0.000    -120.886     -39.266\n",
       "Generosity                      -7.8916      7.024     -1.124      0.263     -21.771       5.988\n",
       "Perceptions of corruption       -0.8605      3.792     -0.227      0.821      -8.353       6.632\n",
       "==============================================================================\n",
       "Omnibus:                        2.108   Durbin-Watson:                   1.616\n",
       "Prob(Omnibus):                  0.349   Jarque-Bera (JB):                1.710\n",
       "Skew:                           0.240   Prob(JB):                        0.425\n",
       "Kurtosis:                       3.182   Cond. No.                         36.9\n",
       "==============================================================================\n",
       "\n",
       "Warnings:\n",
       "[1] Standard Errors assume that the covariance matrix of the errors is correctly specified.\n",
       "\"\"\""
      ]
     },
     "execution_count": 141,
     "metadata": {},
     "output_type": "execute_result"
    }
   ],
   "source": [
    "import statsmodels.api as sm\n",
    "\n",
    "x=df.drop('Overall rank',1)\n",
    "y=df[\"Overall rank\"]\n",
    "\n",
    "x_const=sm.add_constant(x)\n",
    "\n",
    "ols_model=sm.OLS(y,x_const).fit()\n",
    "\n",
    "ols_model.summary()"
   ]
  },
  {
   "cell_type": "code",
   "execution_count": null,
   "metadata": {},
   "outputs": [],
   "source": [
    "Report Analysis:\n",
    "------------------\n",
    "\n",
    "1. \"Perceptions of corruption\",\"Generosity\" is insignificant as p-value>0.05\n",
    "\n",
    "2. Skew is 0.2 which means that the residue is normal. Hence, Normality is satisfied\n",
    "\n",
    "3. There is no Auto correlation as the Durbin-Watson: is 1.6 (Between 1.5 and 2.5)\n",
    "    \n",
    "4. No Multi-collinearity as Cond. No. is 36.9 (<1000)\n",
    "\n",
    "5. Accuracy of the model is : R-squared=0.79.5"
   ]
  },
  {
   "cell_type": "code",
   "execution_count": 142,
   "metadata": {},
   "outputs": [
    {
     "data": {
      "text/plain": [
       "<matplotlib.axes._subplots.AxesSubplot at 0x14a2b108>"
      ]
     },
     "execution_count": 142,
     "metadata": {},
     "output_type": "execute_result"
    },
    {
     "data": {
      "image/png": "[encoded data removed]",
      "text/plain": [
       "<Figure size 432x288 with 1 Axes>"
      ]
     },
     "metadata": {
      "needs_background": "light"
     },
     "output_type": "display_data"
    }
   ],
   "source": [
    "# Checking for Linearity\n",
    "\n",
    "sns.scatterplot(y,ols_model.predict()) # Model is linear"
   ]
  },
  {
   "cell_type": "code",
   "execution_count": 143,
   "metadata": {},
   "outputs": [
    {
     "data": {
      "text/plain": [
       "<matplotlib.axes._subplots.AxesSubplot at 0x1622b888>"
      ]
     },
     "execution_count": 143,
     "metadata": {},
     "output_type": "execute_result"
    },
    {
     "data": {
      "image/png": "[encoded data removed]",
      "text/plain": [
       "<Figure size 432x288 with 1 Axes>"
      ]
     },
     "metadata": {
      "needs_background": "light"
     },
     "output_type": "display_data"
    }
   ],
   "source": [
    "# Check for Homoscadacity: Model should have uniform variance\n",
    "\n",
    "sns.residplot(ols_model.predict(),ols_model.resid) # Can't infer from the graph, lets go for a statistical test for Homoscadacity\n"
   ]
  },
  {
   "cell_type": "code",
   "execution_count": 144,
   "metadata": {},
   "outputs": [
    {
     "data": {
      "text/plain": [
       "(1.076158446584078, 0.37899981311318853, 'increasing')"
      ]
     },
     "execution_count": 144,
     "metadata": {},
     "output_type": "execute_result"
    }
   ],
   "source": [
    "from statsmodels.stats.api import het_goldfeldquandt\n",
    "\n",
    "# H0: Data is homoscadastic; Ha: Data is not homoscadastic\n",
    "\n",
    "het_goldfeldquandt(ols_model.resid,ols_model.model.exog)"
   ]
  },
  {
   "cell_type": "raw",
   "metadata": {},
   "source": [
    "All the  assumptions for Linear Regression is satisfied. Hence, let us rebuild the model after removing the insignificant feature"
   ]
  },
  {
   "cell_type": "code",
   "execution_count": 145,
   "metadata": {},
   "outputs": [],
   "source": [
    "df.drop(\"Perceptions of corruption\",1,inplace=True)"
   ]
  },
  {
   "cell_type": "code",
   "execution_count": 146,
   "metadata": {},
   "outputs": [
    {
     "data": {
      "text/html": [
       "<table class=\"simpletable\">\n",
       "<caption>OLS Regression Results</caption>\n",
       "<tr>\n",
       "  <th>Dep. Variable:</th>      <td>Overall rank</td>   <th>  R-squared:         </th> <td>   0.795</td>\n",
       "</tr>\n",
       "<tr>\n",
       "  <th>Model:</th>                   <td>OLS</td>       <th>  Adj. R-squared:    </th> <td>   0.788</td>\n",
       "</tr>\n",
       "<tr>\n",
       "  <th>Method:</th>             <td>Least Squares</td>  <th>  F-statistic:       </th> <td>   116.1</td>\n",
       "</tr>\n",
       "<tr>\n",
       "  <th>Date:</th>             <td>Wed, 14 Oct 2020</td> <th>  Prob (F-statistic):</th> <td>9.49e-50</td>\n",
       "</tr>\n",
       "<tr>\n",
       "  <th>Time:</th>                 <td>10:20:03</td>     <th>  Log-Likelihood:    </th> <td> -691.80</td>\n",
       "</tr>\n",
       "<tr>\n",
       "  <th>No. Observations:</th>      <td>   156</td>      <th>  AIC:               </th> <td>   1396.</td>\n",
       "</tr>\n",
       "<tr>\n",
       "  <th>Df Residuals:</th>          <td>   150</td>      <th>  BIC:               </th> <td>   1414.</td>\n",
       "</tr>\n",
       "<tr>\n",
       "  <th>Df Model:</th>              <td>     5</td>      <th>                     </th>     <td> </td>   \n",
       "</tr>\n",
       "<tr>\n",
       "  <th>Covariance Type:</th>      <td>nonrobust</td>    <th>                     </th>     <td> </td>   \n",
       "</tr>\n",
       "</table>\n",
       "<table class=\"simpletable\">\n",
       "<tr>\n",
       "                <td></td>                  <th>coef</th>     <th>std err</th>      <th>t</th>      <th>P>|t|</th>  <th>[0.025</th>    <th>0.975]</th>  \n",
       "</tr>\n",
       "<tr>\n",
       "  <th>const</th>                        <td>  104.4249</td> <td>   11.717</td> <td>    8.912</td> <td> 0.000</td> <td>   81.273</td> <td>  127.577</td>\n",
       "</tr>\n",
       "<tr>\n",
       "  <th>GDP per capita</th>               <td>  -44.9641</td> <td>    8.369</td> <td>   -5.373</td> <td> 0.000</td> <td>  -61.501</td> <td>  -28.427</td>\n",
       "</tr>\n",
       "<tr>\n",
       "  <th>Social support</th>               <td>  -39.4117</td> <td>    7.389</td> <td>   -5.334</td> <td> 0.000</td> <td>  -54.011</td> <td>  -24.812</td>\n",
       "</tr>\n",
       "<tr>\n",
       "  <th>Healthy life expectancy</th>      <td>  -35.9395</td> <td>   13.151</td> <td>   -2.733</td> <td> 0.007</td> <td>  -61.925</td> <td>   -9.953</td>\n",
       "</tr>\n",
       "<tr>\n",
       "  <th>Freedom to make life choices</th> <td>  -81.7030</td> <td>   19.306</td> <td>   -4.232</td> <td> 0.000</td> <td> -119.851</td> <td>  -43.555</td>\n",
       "</tr>\n",
       "<tr>\n",
       "  <th>Generosity</th>                   <td>   -8.2774</td> <td>    6.794</td> <td>   -1.218</td> <td> 0.225</td> <td>  -21.701</td> <td>    5.146</td>\n",
       "</tr>\n",
       "</table>\n",
       "<table class=\"simpletable\">\n",
       "<tr>\n",
       "  <th>Omnibus:</th>       <td> 2.260</td> <th>  Durbin-Watson:     </th> <td>   1.615</td>\n",
       "</tr>\n",
       "<tr>\n",
       "  <th>Prob(Omnibus):</th> <td> 0.323</td> <th>  Jarque-Bera (JB):  </th> <td>   1.846</td>\n",
       "</tr>\n",
       "<tr>\n",
       "  <th>Skew:</th>          <td> 0.248</td> <th>  Prob(JB):          </th> <td>   0.397</td>\n",
       "</tr>\n",
       "<tr>\n",
       "  <th>Kurtosis:</th>      <td> 3.195</td> <th>  Cond. No.          </th> <td>    25.7</td>\n",
       "</tr>\n",
       "</table><br/><br/>Warnings:<br/>[1] Standard Errors assume that the covariance matrix of the errors is correctly specified."
      ],
      "text/plain": [
       "<class 'statsmodels.iolib.summary.Summary'>\n",
       "\"\"\"\n",
       "                            OLS Regression Results                            \n",
       "==============================================================================\n",
       "Dep. Variable:           Overall rank   R-squared:                       0.795\n",
       "Model:                            OLS   Adj. R-squared:                  0.788\n",
       "Method:                 Least Squares   F-statistic:                     116.1\n",
       "Date:                Wed, 14 Oct 2020   Prob (F-statistic):           9.49e-50\n",
       "Time:                        10:20:03   Log-Likelihood:                -691.80\n",
       "No. Observations:                 156   AIC:                             1396.\n",
       "Df Residuals:                     150   BIC:                             1414.\n",
       "Df Model:                           5                                         \n",
       "Covariance Type:            nonrobust                                         \n",
       "================================================================================================\n",
       "                                   coef    std err          t      P>|t|      [0.025      0.975]\n",
       "------------------------------------------------------------------------------------------------\n",
       "const                          104.4249     11.717      8.912      0.000      81.273     127.577\n",
       "GDP per capita                 -44.9641      8.369     -5.373      0.000     -61.501     -28.427\n",
       "Social support                 -39.4117      7.389     -5.334      0.000     -54.011     -24.812\n",
       "Healthy life expectancy        -35.9395     13.151     -2.733      0.007     -61.925      -9.953\n",
       "Freedom to make life choices   -81.7030     19.306     -4.232      0.000    -119.851     -43.555\n",
       "Generosity                      -8.2774      6.794     -1.218      0.225     -21.701       5.146\n",
       "==============================================================================\n",
       "Omnibus:                        2.260   Durbin-Watson:                   1.615\n",
       "Prob(Omnibus):                  0.323   Jarque-Bera (JB):                1.846\n",
       "Skew:                           0.248   Prob(JB):                        0.397\n",
       "Kurtosis:                       3.195   Cond. No.                         25.7\n",
       "==============================================================================\n",
       "\n",
       "Warnings:\n",
       "[1] Standard Errors assume that the covariance matrix of the errors is correctly specified.\n",
       "\"\"\""
      ]
     },
     "execution_count": 146,
     "metadata": {},
     "output_type": "execute_result"
    }
   ],
   "source": [
    "x=df.drop('Overall rank',1)\n",
    "y=df[\"Overall rank\"]\n",
    "\n",
    "x_const=sm.add_constant(x)\n",
    "\n",
    "ols_model=sm.OLS(y,x_const).fit()\n",
    "\n",
    "ols_model.summary()"
   ]
  },
  {
   "cell_type": "code",
   "execution_count": 147,
   "metadata": {},
   "outputs": [],
   "source": [
    "df.drop(\"Generosity\",1,inplace=True)"
   ]
  },
  {
   "cell_type": "code",
   "execution_count": 148,
   "metadata": {},
   "outputs": [
    {
     "data": {
      "text/html": [
       "<table class=\"simpletable\">\n",
       "<caption>OLS Regression Results</caption>\n",
       "<tr>\n",
       "  <th>Dep. Variable:</th>      <td>Overall rank</td>   <th>  R-squared:         </th> <td>   0.793</td>\n",
       "</tr>\n",
       "<tr>\n",
       "  <th>Model:</th>                   <td>OLS</td>       <th>  Adj. R-squared:    </th> <td>   0.787</td>\n",
       "</tr>\n",
       "<tr>\n",
       "  <th>Method:</th>             <td>Least Squares</td>  <th>  F-statistic:       </th> <td>   144.3</td>\n",
       "</tr>\n",
       "<tr>\n",
       "  <th>Date:</th>             <td>Wed, 14 Oct 2020</td> <th>  Prob (F-statistic):</th> <td>1.54e-50</td>\n",
       "</tr>\n",
       "<tr>\n",
       "  <th>Time:</th>                 <td>10:20:52</td>     <th>  Log-Likelihood:    </th> <td> -692.57</td>\n",
       "</tr>\n",
       "<tr>\n",
       "  <th>No. Observations:</th>      <td>   156</td>      <th>  AIC:               </th> <td>   1395.</td>\n",
       "</tr>\n",
       "<tr>\n",
       "  <th>Df Residuals:</th>          <td>   151</td>      <th>  BIC:               </th> <td>   1410.</td>\n",
       "</tr>\n",
       "<tr>\n",
       "  <th>Df Model:</th>              <td>     4</td>      <th>                     </th>     <td> </td>   \n",
       "</tr>\n",
       "<tr>\n",
       "  <th>Covariance Type:</th>      <td>nonrobust</td>    <th>                     </th>     <td> </td>   \n",
       "</tr>\n",
       "</table>\n",
       "<table class=\"simpletable\">\n",
       "<tr>\n",
       "                <td></td>                  <th>coef</th>     <th>std err</th>      <th>t</th>      <th>P>|t|</th>  <th>[0.025</th>    <th>0.975]</th>  \n",
       "</tr>\n",
       "<tr>\n",
       "  <th>const</th>                        <td>  110.3698</td> <td>   10.670</td> <td>   10.344</td> <td> 0.000</td> <td>   89.289</td> <td>  131.451</td>\n",
       "</tr>\n",
       "<tr>\n",
       "  <th>GDP per capita</th>               <td>  -43.9151</td> <td>    8.338</td> <td>   -5.267</td> <td> 0.000</td> <td>  -60.390</td> <td>  -27.440</td>\n",
       "</tr>\n",
       "<tr>\n",
       "  <th>Social support</th>               <td>  -39.2999</td> <td>    7.400</td> <td>   -5.311</td> <td> 0.000</td> <td>  -53.921</td> <td>  -24.679</td>\n",
       "</tr>\n",
       "<tr>\n",
       "  <th>Healthy life expectancy</th>      <td>  -36.2678</td> <td>   13.170</td> <td>   -2.754</td> <td> 0.007</td> <td>  -62.289</td> <td>  -10.247</td>\n",
       "</tr>\n",
       "<tr>\n",
       "  <th>Freedom to make life choices</th> <td>  -89.5954</td> <td>   18.216</td> <td>   -4.918</td> <td> 0.000</td> <td> -125.587</td> <td>  -53.603</td>\n",
       "</tr>\n",
       "</table>\n",
       "<table class=\"simpletable\">\n",
       "<tr>\n",
       "  <th>Omnibus:</th>       <td> 2.759</td> <th>  Durbin-Watson:     </th> <td>   1.626</td>\n",
       "</tr>\n",
       "<tr>\n",
       "  <th>Prob(Omnibus):</th> <td> 0.252</td> <th>  Jarque-Bera (JB):  </th> <td>   2.316</td>\n",
       "</tr>\n",
       "<tr>\n",
       "  <th>Skew:</th>          <td> 0.278</td> <th>  Prob(JB):          </th> <td>   0.314</td>\n",
       "</tr>\n",
       "<tr>\n",
       "  <th>Kurtosis:</th>      <td> 3.216</td> <th>  Cond. No.          </th> <td>    20.0</td>\n",
       "</tr>\n",
       "</table><br/><br/>Warnings:<br/>[1] Standard Errors assume that the covariance matrix of the errors is correctly specified."
      ],
      "text/plain": [
       "<class 'statsmodels.iolib.summary.Summary'>\n",
       "\"\"\"\n",
       "                            OLS Regression Results                            \n",
       "==============================================================================\n",
       "Dep. Variable:           Overall rank   R-squared:                       0.793\n",
       "Model:                            OLS   Adj. R-squared:                  0.787\n",
       "Method:                 Least Squares   F-statistic:                     144.3\n",
       "Date:                Wed, 14 Oct 2020   Prob (F-statistic):           1.54e-50\n",
       "Time:                        10:20:52   Log-Likelihood:                -692.57\n",
       "No. Observations:                 156   AIC:                             1395.\n",
       "Df Residuals:                     151   BIC:                             1410.\n",
       "Df Model:                           4                                         \n",
       "Covariance Type:            nonrobust                                         \n",
       "================================================================================================\n",
       "                                   coef    std err          t      P>|t|      [0.025      0.975]\n",
       "------------------------------------------------------------------------------------------------\n",
       "const                          110.3698     10.670     10.344      0.000      89.289     131.451\n",
       "GDP per capita                 -43.9151      8.338     -5.267      0.000     -60.390     -27.440\n",
       "Social support                 -39.2999      7.400     -5.311      0.000     -53.921     -24.679\n",
       "Healthy life expectancy        -36.2678     13.170     -2.754      0.007     -62.289     -10.247\n",
       "Freedom to make life choices   -89.5954     18.216     -4.918      0.000    -125.587     -53.603\n",
       "==============================================================================\n",
       "Omnibus:                        2.759   Durbin-Watson:                   1.626\n",
       "Prob(Omnibus):                  0.252   Jarque-Bera (JB):                2.316\n",
       "Skew:                           0.278   Prob(JB):                        0.314\n",
       "Kurtosis:                       3.216   Cond. No.                         20.0\n",
       "==============================================================================\n",
       "\n",
       "Warnings:\n",
       "[1] Standard Errors assume that the covariance matrix of the errors is correctly specified.\n",
       "\"\"\""
      ]
     },
     "execution_count": 148,
     "metadata": {},
     "output_type": "execute_result"
    }
   ],
   "source": [
    "x=df.drop('Overall rank',1)\n",
    "y=df[\"Overall rank\"]\n",
    "\n",
    "x_const=sm.add_constant(x)\n",
    "\n",
    "ols_model=sm.OLS(y,x_const).fit()\n",
    "\n",
    "ols_model.summary()"
   ]
  },
  {
   "cell_type": "markdown",
   "metadata": {},
   "source": [
    "The model is 79.3% accurate from the r2_score. "
   ]
  },
  {
   "cell_type": "markdown",
   "metadata": {},
   "source": [
    "##### Let's now implement Linear Regression with the SKLEARN library. If the model is overfit we can regularize the model using Ridge, Lasso or ElasticNet."
   ]
  },
  {
   "cell_type": "code",
   "execution_count": 28,
   "metadata": {},
   "outputs": [],
   "source": [
    "from sklearn.preprocessing import StandardScaler\n",
    "from sklearn.model_selection import cross_val_score,GridSearchCV\n",
    "from sklearn.linear_model import LinearRegression\n",
    "from sklearn.metrics import mean_squared_error,r2_score,accuracy_score"
   ]
  },
  {
   "cell_type": "code",
   "execution_count": 149,
   "metadata": {},
   "outputs": [
    {
     "data": {
      "text/html": [
       "<div>\n",
       "<style scoped>\n",
       "    .dataframe tbody tr th:only-of-type {\n",
       "        vertical-align: middle;\n",
       "    }\n",
       "\n",
       "    .dataframe tbody tr th {\n",
       "        vertical-align: top;\n",
       "    }\n",
       "\n",
       "    .dataframe thead th {\n",
       "        text-align: right;\n",
       "    }\n",
       "</style>\n",
       "<table border=\"1\" class=\"dataframe\">\n",
       "  <thead>\n",
       "    <tr style=\"text-align: right;\">\n",
       "      <th></th>\n",
       "      <th>GDP per capita</th>\n",
       "      <th>Social support</th>\n",
       "      <th>Healthy life expectancy</th>\n",
       "      <th>Freedom to make life choices</th>\n",
       "    </tr>\n",
       "  </thead>\n",
       "  <tbody>\n",
       "    <tr>\n",
       "      <th>0</th>\n",
       "      <td>1.063976</td>\n",
       "      <td>1.567826</td>\n",
       "      <td>1.128489</td>\n",
       "      <td>1.595521</td>\n",
       "    </tr>\n",
       "    <tr>\n",
       "      <th>1</th>\n",
       "      <td>1.454475</td>\n",
       "      <td>1.513863</td>\n",
       "      <td>1.075167</td>\n",
       "      <td>1.636461</td>\n",
       "    </tr>\n",
       "    <tr>\n",
       "      <th>2</th>\n",
       "      <td>1.182936</td>\n",
       "      <td>1.556999</td>\n",
       "      <td>1.103879</td>\n",
       "      <td>1.611881</td>\n",
       "    </tr>\n",
       "    <tr>\n",
       "      <th>3</th>\n",
       "      <td>1.162247</td>\n",
       "      <td>1.855397</td>\n",
       "      <td>1.292559</td>\n",
       "      <td>1.562869</td>\n",
       "    </tr>\n",
       "    <tr>\n",
       "      <th>4</th>\n",
       "      <td>1.361375</td>\n",
       "      <td>1.338835</td>\n",
       "      <td>1.345881</td>\n",
       "      <td>1.425088</td>\n",
       "    </tr>\n",
       "  </tbody>\n",
       "</table>\n",
       "</div>"
      ],
      "text/plain": [
       "   GDP per capita  Social support  Healthy life expectancy  \\\n",
       "0        1.063976        1.567826                 1.128489   \n",
       "1        1.454475        1.513863                 1.075167   \n",
       "2        1.182936        1.556999                 1.103879   \n",
       "3        1.162247        1.855397                 1.292559   \n",
       "4        1.361375        1.338835                 1.345881   \n",
       "\n",
       "   Freedom to make life choices  \n",
       "0                      1.595521  \n",
       "1                      1.636461  \n",
       "2                      1.611881  \n",
       "3                      1.562869  \n",
       "4                      1.425088  "
      ]
     },
     "execution_count": 149,
     "metadata": {},
     "output_type": "execute_result"
    }
   ],
   "source": [
    "# Scaling the data\n",
    "\n",
    "sc=StandardScaler()\n",
    "\n",
    "x_scaled=sc.fit_transform(x)\n",
    "\n",
    "x_scaled=pd.DataFrame(x_scaled,columns=x.columns)\n",
    "\n",
    "x_scaled.head()\n"
   ]
  },
  {
   "cell_type": "code",
   "execution_count": 150,
   "metadata": {},
   "outputs": [
    {
     "name": "stdout",
     "output_type": "stream",
     "text": [
      " Average Bias Error is -569.971297329809 \n",
      "\n",
      " Variance Error is 225.50890710405687\n"
     ]
    }
   ],
   "source": [
    "'''Implementing K-Fold cross validation to check the avg. Bias Error and Variance Error \n",
    "with the scoring parameter \"neg_mean_squared_error\" '''\n",
    "\n",
    "lr=LinearRegression()\n",
    "\n",
    "score=cross_val_score(lr,x_scaled,y,cv=5,scoring=\"neg_mean_squared_error\")\n",
    "\n",
    "print(f' Average Bias Error is {np.mean(score)}',\"\\n\")\n",
    "\n",
    "print(f' Variance Error is {np.std(score,ddof=1)}')"
   ]
  },
  {
   "cell_type": "code",
   "execution_count": 74,
   "metadata": {},
   "outputs": [
    {
     "data": {
      "text/plain": [
       "dict_keys(['explained_variance', 'r2', 'max_error', 'neg_median_absolute_error', 'neg_mean_absolute_error', 'neg_mean_squared_error', 'neg_mean_squared_log_error', 'neg_root_mean_squared_error', 'neg_mean_poisson_deviance', 'neg_mean_gamma_deviance', 'accuracy', 'roc_auc', 'roc_auc_ovr', 'roc_auc_ovo', 'roc_auc_ovr_weighted', 'roc_auc_ovo_weighted', 'balanced_accuracy', 'average_precision', 'neg_log_loss', 'neg_brier_score', 'adjusted_rand_score', 'homogeneity_score', 'completeness_score', 'v_measure_score', 'mutual_info_score', 'adjusted_mutual_info_score', 'normalized_mutual_info_score', 'fowlkes_mallows_score', 'precision', 'precision_macro', 'precision_micro', 'precision_samples', 'precision_weighted', 'recall', 'recall_macro', 'recall_micro', 'recall_samples', 'recall_weighted', 'f1', 'f1_macro', 'f1_micro', 'f1_samples', 'f1_weighted', 'jaccard', 'jaccard_macro', 'jaccard_micro', 'jaccard_samples', 'jaccard_weighted'])"
      ]
     },
     "execution_count": 74,
     "metadata": {},
     "output_type": "execute_result"
    }
   ],
   "source": [
    "from sklearn.metrics import SCORERS\n",
    "\n",
    "SCORERS.keys()"
   ]
  },
  {
   "cell_type": "code",
   "execution_count": 151,
   "metadata": {},
   "outputs": [
    {
     "name": "stdout",
     "output_type": "stream",
     "text": [
      " Accuracy score for the different folds is  [-9.5320077  -3.19778096 -3.87385766 -6.04323478 -7.28516198] \n",
      "\n",
      " Average Accuracy is -5.986408615536295 \n",
      "\n",
      " Average Bias Error  is 6.986408615536294 \n",
      "\n",
      " Variance Error is 2.573935610520602\n"
     ]
    }
   ],
   "source": [
    "score_accuracy=cross_val_score(lr,x_scaled,y,cv=5,scoring=\"r2\")\n",
    "\n",
    "print(f' Accuracy score for the different folds is  {score_accuracy}',\"\\n\")\n",
    "\n",
    "print(f' Average Accuracy is {np.mean(score_accuracy)}',\"\\n\")\n",
    "\n",
    "print(f' Average Bias Error  is {np.mean(1-score_accuracy)}',\"\\n\")\n",
    "\n",
    "print(f' Variance Error is {np.std(score_accuracy,ddof=1)}')"
   ]
  },
  {
   "cell_type": "markdown",
   "metadata": {},
   "source": [
    "### Preparing the test dataset for testing the Linear Regression model. This is the data for the year 2019"
   ]
  },
  {
   "cell_type": "code",
   "execution_count": 166,
   "metadata": {},
   "outputs": [],
   "source": [
    "df_test=pd.read_csv(\"C:/Users/dell/Desktop/Projects/World Happiness Report/2019.csv\")\n",
    "\n",
    "df_test=df_test[['Overall rank', 'GDP per capita', 'Social support',\n",
    "       'Healthy life expectancy', 'Freedom to make life choices']].copy()\n"
   ]
  },
  {
   "cell_type": "code",
   "execution_count": 167,
   "metadata": {},
   "outputs": [],
   "source": [
    "for i in ['GDP per capita', 'Social support', 'Healthy life expectancy',\n",
    "       'Freedom to make life choices']:\n",
    "    df_test.loc[df_test[i]==0,i]=df_test[i].quantile(0.1)"
   ]
  },
  {
   "cell_type": "code",
   "execution_count": 169,
   "metadata": {},
   "outputs": [],
   "source": [
    "from scipy.stats import boxcox\n",
    "from scipy.special import inv_boxcox\n",
    "\n",
    "social_support,social_support_lam_test=boxcox(df_test[\"Social support\"])\n",
    "\n",
    "life_Choices,life_choices_lam_test=boxcox(df_test[\"Freedom to make life choices\"])\n",
    "\n"
   ]
  },
  {
   "cell_type": "code",
   "execution_count": 170,
   "metadata": {},
   "outputs": [],
   "source": [
    "sc=StandardScaler()\n",
    "\n",
    "scaled_param_values=sc.fit(x)"
   ]
  },
  {
   "cell_type": "code",
   "execution_count": 171,
   "metadata": {},
   "outputs": [
    {
     "data": {
      "text/html": [
       "<div>\n",
       "<style scoped>\n",
       "    .dataframe tbody tr th:only-of-type {\n",
       "        vertical-align: middle;\n",
       "    }\n",
       "\n",
       "    .dataframe tbody tr th {\n",
       "        vertical-align: top;\n",
       "    }\n",
       "\n",
       "    .dataframe thead th {\n",
       "        text-align: right;\n",
       "    }\n",
       "</style>\n",
       "<table border=\"1\" class=\"dataframe\">\n",
       "  <thead>\n",
       "    <tr style=\"text-align: right;\">\n",
       "      <th></th>\n",
       "      <th>Overall rank</th>\n",
       "      <th>GDP per capita</th>\n",
       "      <th>Social support</th>\n",
       "      <th>Healthy life expectancy</th>\n",
       "      <th>Freedom to make life choices</th>\n",
       "    </tr>\n",
       "  </thead>\n",
       "  <tbody>\n",
       "    <tr>\n",
       "      <th>0</th>\n",
       "      <td>1</td>\n",
       "      <td>1.340</td>\n",
       "      <td>1.587</td>\n",
       "      <td>0.986</td>\n",
       "      <td>0.596</td>\n",
       "    </tr>\n",
       "    <tr>\n",
       "      <th>1</th>\n",
       "      <td>2</td>\n",
       "      <td>1.383</td>\n",
       "      <td>1.573</td>\n",
       "      <td>0.996</td>\n",
       "      <td>0.592</td>\n",
       "    </tr>\n",
       "    <tr>\n",
       "      <th>2</th>\n",
       "      <td>3</td>\n",
       "      <td>1.488</td>\n",
       "      <td>1.582</td>\n",
       "      <td>1.028</td>\n",
       "      <td>0.603</td>\n",
       "    </tr>\n",
       "    <tr>\n",
       "      <th>3</th>\n",
       "      <td>4</td>\n",
       "      <td>1.380</td>\n",
       "      <td>1.624</td>\n",
       "      <td>1.026</td>\n",
       "      <td>0.591</td>\n",
       "    </tr>\n",
       "    <tr>\n",
       "      <th>4</th>\n",
       "      <td>5</td>\n",
       "      <td>1.396</td>\n",
       "      <td>1.522</td>\n",
       "      <td>0.999</td>\n",
       "      <td>0.557</td>\n",
       "    </tr>\n",
       "  </tbody>\n",
       "</table>\n",
       "</div>"
      ],
      "text/plain": [
       "   Overall rank  GDP per capita  Social support  Healthy life expectancy  \\\n",
       "0             1           1.340           1.587                    0.986   \n",
       "1             2           1.383           1.573                    0.996   \n",
       "2             3           1.488           1.582                    1.028   \n",
       "3             4           1.380           1.624                    1.026   \n",
       "4             5           1.396           1.522                    0.999   \n",
       "\n",
       "   Freedom to make life choices  \n",
       "0                         0.596  \n",
       "1                         0.592  \n",
       "2                         0.603  \n",
       "3                         0.591  \n",
       "4                         0.557  "
      ]
     },
     "execution_count": 171,
     "metadata": {},
     "output_type": "execute_result"
    }
   ],
   "source": [
    "df_test.head()"
   ]
  },
  {
   "cell_type": "code",
   "execution_count": 172,
   "metadata": {},
   "outputs": [],
   "source": [
    "xtest=df_test.drop([\"Overall rank\"],1)\n",
    "ytest=df[\"Overall rank\"]\n",
    "\n",
    "xtest_scaled=pd.DataFrame(sc.transform(xtest),columns=xtest.columns)"
   ]
  },
  {
   "cell_type": "markdown",
   "metadata": {},
   "source": [
    "#### Testing Linear Regression on test data"
   ]
  },
  {
   "cell_type": "code",
   "execution_count": 173,
   "metadata": {},
   "outputs": [
    {
     "data": {
      "text/plain": [
       "-6.02523838643561"
      ]
     },
     "execution_count": 173,
     "metadata": {},
     "output_type": "execute_result"
    }
   ],
   "source": [
    "lr=LinearRegression()\n",
    "\n",
    "model=lr.fit(x_scaled,y)\n",
    "\n",
    "ypred=model.predict(xtest_scaled)\n",
    "\n",
    "r2_score(ytest,ypred)"
   ]
  },
  {
   "cell_type": "markdown",
   "metadata": {},
   "source": [
    "#### The accuracy scores of the model is very poor. Hence, no amount of tuning will give a great result. Hence not opting for model regularization. We can test other models and compare the accuracy scores."
   ]
  },
  {
   "cell_type": "markdown",
   "metadata": {},
   "source": [
    "### KNN Model"
   ]
  },
  {
   "cell_type": "code",
   "execution_count": 204,
   "metadata": {},
   "outputs": [],
   "source": [
    "#  PREPARING THE TRAIN AND TEST DATA AGAIN AS SOME OF THE FEATURES WERE DROPPED WHEN TRAINING THE LINEAR REGRESSION MODEL\n",
    "# =========================================================================================================================\n",
    "\n",
    "df=pd.read_csv(\"C:/Users/dell/Desktop/Projects/World Happiness Report/2018.csv\")\n",
    "\n",
    "df.drop([\"Country or region\",\"Score\"],1,inplace=True)\n",
    "\n",
    "# Null Value Imputation\n",
    "\n",
    "df.loc[df[\"Perceptions of corruption\"].isnull(),\"Perceptions of corruption\"]=df[\"Perceptions of corruption\"].quantile(0.5)\n",
    "\n",
    "for i in ['GDP per capita', 'Social support', 'Healthy life expectancy',\n",
    "       'Freedom to make life choices', 'Generosity',\n",
    "       'Perceptions of corruption']:\n",
    "    df.loc[df[i]==0,i]=df[i].quantile(0.1)"
   ]
  },
  {
   "cell_type": "code",
   "execution_count": 206,
   "metadata": {},
   "outputs": [
    {
     "data": {
      "image/png": "[encoded data removed]",
      "text/plain": [
       "<Figure size 432x288 with 2 Axes>"
      ]
     },
     "metadata": {
      "needs_background": "light"
     },
     "output_type": "display_data"
    }
   ],
   "source": [
    "sns.heatmap(df.corr(),annot=True)\n",
    "plt.show()"
   ]
  },
  {
   "cell_type": "code",
   "execution_count": 207,
   "metadata": {},
   "outputs": [],
   "source": [
    "sc=StandardScaler()\n",
    "\n",
    "xtrain=df.drop(\"Overall rank\",1)\n",
    "ytrain=df[\"Overall rank\"]\n",
    "\n",
    "xtrain_sc=pd.DataFrame(sc.fit_transform(xtrain),columns=xtrain.columns)\n",
    "\n"
   ]
  },
  {
   "cell_type": "code",
   "execution_count": 212,
   "metadata": {},
   "outputs": [],
   "source": [
    "df2=pd.read_csv(\"C:/Users/dell/Desktop/Projects/World Happiness Report/2019.csv\")\n",
    "\n",
    "df2.drop([\"Country or region\",\"Score\"],1,inplace=True)\n",
    "\n",
    "# Null Value Imputation\n",
    "\n",
    "df2.loc[df2[\"Perceptions of corruption\"].isnull(),\"Perceptions of corruption\"]=df2[\"Perceptions of corruption\"].quantile(0.5)\n",
    "\n",
    "for i in ['GDP per capita', 'Social support', 'Healthy life expectancy',\n",
    "       'Freedom to make life choices', 'Generosity',\n",
    "       'Perceptions of corruption']:\n",
    "    df2.loc[df2[i]==0,i]=df2[i].quantile(0.1)"
   ]
  },
  {
   "cell_type": "code",
   "execution_count": 216,
   "metadata": {},
   "outputs": [],
   "source": [
    "sc=StandardScaler()\n",
    "\n",
    "sc.fit(xtrain)\n",
    "\n",
    "xtest=df2.drop(\"Overall rank\",1)\n",
    "ytest=df2[\"Overall rank\"]\n",
    "\n",
    "xtest_sc=sc.transform(xtest)"
   ]
  },
  {
   "cell_type": "code",
   "execution_count": 174,
   "metadata": {},
   "outputs": [],
   "source": [
    "from sklearn.neighbors import KNeighborsRegressor"
   ]
  },
  {
   "cell_type": "raw",
   "metadata": {},
   "source": [
    "Implementing Grid Search to get the best hyper parameters for KNN Model"
   ]
  },
  {
   "cell_type": "code",
   "execution_count": 238,
   "metadata": {},
   "outputs": [
    {
     "data": {
      "text/plain": [
       "{'n_neighbors': 5, 'weights': 'distance'}"
      ]
     },
     "execution_count": 238,
     "metadata": {},
     "output_type": "execute_result"
    }
   ],
   "source": [
    "knn=KNeighborsRegressor()\n",
    "\n",
    "params={\"n_neighbors\":range(1,100),\"weights\":['uniform',\"distance\"]}\n",
    "\n",
    "grid=GridSearchCV(knn,param_grid=params,cv=3,scoring=\"neg_mean_squared_error\")\n",
    "\n",
    "grid.fit(xtrain_sc,ytrain)\n",
    "\n",
    "grid.best_params_"
   ]
  },
  {
   "cell_type": "code",
   "execution_count": 239,
   "metadata": {},
   "outputs": [
    {
     "data": {
      "text/plain": [
       "-2026.4523980731376"
      ]
     },
     "execution_count": 239,
     "metadata": {},
     "output_type": "execute_result"
    }
   ],
   "source": [
    "grid.best_score_"
   ]
  },
  {
   "cell_type": "code",
   "execution_count": 240,
   "metadata": {},
   "outputs": [
    {
     "name": "stdout",
     "output_type": "stream",
     "text": [
      " Average Bias error is -1087.3793528164274 \n",
      "\n",
      " Variance Error is 508.14763165192585\n"
     ]
    }
   ],
   "source": [
    "knn=KNeighborsRegressor(n_neighbors=5,weights=\"distance\")\n",
    "\n",
    "score=cross_val_score(knn,xtrain_sc,ytrain,cv=5,scoring=\"neg_mean_squared_error\")\n",
    "\n",
    "print(f' Average Bias error is {np.mean(score)}',\"\\n\")\n",
    "\n",
    "print(f' Variance Error is {np.std(score,ddof=1)}')"
   ]
  },
  {
   "cell_type": "code",
   "execution_count": 248,
   "metadata": {},
   "outputs": [
    {
     "data": {
      "text/plain": [
       "0.8289801014682872"
      ]
     },
     "execution_count": 248,
     "metadata": {},
     "output_type": "execute_result"
    }
   ],
   "source": [
    "knn=KNeighborsRegressor(n_neighbors=5,weights=\"distance\")\n",
    "\n",
    "model=knn.fit(xtrain_sc,ytrain)\n",
    "\n",
    "ypred=model.predict(xtest_sc)\n",
    "\n",
    "r2_score(ytest,np.round(ypred))"
   ]
  },
  {
   "cell_type": "code",
   "execution_count": 246,
   "metadata": {},
   "outputs": [
    {
     "data": {
      "text/html": [
       "<div>\n",
       "<style scoped>\n",
       "    .dataframe tbody tr th:only-of-type {\n",
       "        vertical-align: middle;\n",
       "    }\n",
       "\n",
       "    .dataframe tbody tr th {\n",
       "        vertical-align: top;\n",
       "    }\n",
       "\n",
       "    .dataframe thead th {\n",
       "        text-align: right;\n",
       "    }\n",
       "</style>\n",
       "<table border=\"1\" class=\"dataframe\">\n",
       "  <thead>\n",
       "    <tr style=\"text-align: right;\">\n",
       "      <th></th>\n",
       "      <th>Overall rank</th>\n",
       "      <th>0</th>\n",
       "    </tr>\n",
       "  </thead>\n",
       "  <tbody>\n",
       "    <tr>\n",
       "      <th>0</th>\n",
       "      <td>1</td>\n",
       "      <td>11.713641</td>\n",
       "    </tr>\n",
       "    <tr>\n",
       "      <th>1</th>\n",
       "      <td>2</td>\n",
       "      <td>10.740616</td>\n",
       "    </tr>\n",
       "    <tr>\n",
       "      <th>2</th>\n",
       "      <td>3</td>\n",
       "      <td>8.925036</td>\n",
       "    </tr>\n",
       "    <tr>\n",
       "      <th>3</th>\n",
       "      <td>4</td>\n",
       "      <td>13.110331</td>\n",
       "    </tr>\n",
       "    <tr>\n",
       "      <th>4</th>\n",
       "      <td>5</td>\n",
       "      <td>11.342258</td>\n",
       "    </tr>\n",
       "    <tr>\n",
       "      <th>...</th>\n",
       "      <td>...</td>\n",
       "      <td>...</td>\n",
       "    </tr>\n",
       "    <tr>\n",
       "      <th>151</th>\n",
       "      <td>152</td>\n",
       "      <td>126.069281</td>\n",
       "    </tr>\n",
       "    <tr>\n",
       "      <th>152</th>\n",
       "      <td>153</td>\n",
       "      <td>121.878046</td>\n",
       "    </tr>\n",
       "    <tr>\n",
       "      <th>153</th>\n",
       "      <td>154</td>\n",
       "      <td>146.825714</td>\n",
       "    </tr>\n",
       "    <tr>\n",
       "      <th>154</th>\n",
       "      <td>155</td>\n",
       "      <td>141.665691</td>\n",
       "    </tr>\n",
       "    <tr>\n",
       "      <th>155</th>\n",
       "      <td>156</td>\n",
       "      <td>147.822939</td>\n",
       "    </tr>\n",
       "  </tbody>\n",
       "</table>\n",
       "<p>156 rows × 2 columns</p>\n",
       "</div>"
      ],
      "text/plain": [
       "     Overall rank           0\n",
       "0               1   11.713641\n",
       "1               2   10.740616\n",
       "2               3    8.925036\n",
       "3               4   13.110331\n",
       "4               5   11.342258\n",
       "..            ...         ...\n",
       "151           152  126.069281\n",
       "152           153  121.878046\n",
       "153           154  146.825714\n",
       "154           155  141.665691\n",
       "155           156  147.822939\n",
       "\n",
       "[156 rows x 2 columns]"
      ]
     },
     "execution_count": 246,
     "metadata": {},
     "output_type": "execute_result"
    }
   ],
   "source": [
    "pd.concat([pd.Series(ytest),pd.Series(ypred)],1)"
   ]
  },
  {
   "cell_type": "markdown",
   "metadata": {},
   "source": [
    "#### KNN gives a accuracy of 82.89% "
   ]
  },
  {
   "cell_type": "markdown",
   "metadata": {},
   "source": [
    "### Decision Tree"
   ]
  },
  {
   "cell_type": "code",
   "execution_count": 229,
   "metadata": {},
   "outputs": [],
   "source": [
    "from sklearn.tree import DecisionTreeRegressor"
   ]
  },
  {
   "cell_type": "code",
   "execution_count": 253,
   "metadata": {},
   "outputs": [
    {
     "data": {
      "text/plain": [
       "{'criterion': 'mse', 'max_depth': 5}"
      ]
     },
     "execution_count": 253,
     "metadata": {},
     "output_type": "execute_result"
    }
   ],
   "source": [
    "DT=DecisionTreeRegressor()\n",
    "\n",
    "params={\"max_depth\":range(1,50),\"criterion\":[\"mse\"]}\n",
    "\n",
    "grid=GridSearchCV(DT,param_grid=params,cv=3,scoring=\"neg_mean_squared_error\")\n",
    "\n",
    "grid.fit(xtrain_sc,ytrain)\n",
    "\n",
    "grid.best_params_"
   ]
  },
  {
   "cell_type": "code",
   "execution_count": 231,
   "metadata": {},
   "outputs": [
    {
     "data": {
      "text/plain": [
       "-1838.5764956780686"
      ]
     },
     "execution_count": 231,
     "metadata": {},
     "output_type": "execute_result"
    }
   ],
   "source": [
    "grid.best_score_"
   ]
  },
  {
   "cell_type": "code",
   "execution_count": 254,
   "metadata": {},
   "outputs": [
    {
     "data": {
      "text/plain": [
       "0.9165417601124323"
      ]
     },
     "execution_count": 254,
     "metadata": {},
     "output_type": "execute_result"
    }
   ],
   "source": [
    "DT=DecisionTreeRegressor(max_depth=5)\n",
    "\n",
    "model=DT.fit(xtrain_sc,ytrain)\n",
    "\n",
    "ypred=model.predict(xtrain_sc)\n",
    "\n",
    "r2_score(ytrain,ypred)"
   ]
  },
  {
   "cell_type": "code",
   "execution_count": 256,
   "metadata": {},
   "outputs": [
    {
     "data": {
      "text/plain": [
       "0.5572390137288459"
      ]
     },
     "execution_count": 256,
     "metadata": {},
     "output_type": "execute_result"
    }
   ],
   "source": [
    "model=DT.fit(xtrain_sc,ytrain)\n",
    "\n",
    "ypred=model.predict(xtest_sc)\n",
    "\n",
    "r2_score(ytest,ypred)"
   ]
  },
  {
   "cell_type": "markdown",
   "metadata": {},
   "source": [
    "#### The Decision Tree model is clearly Overfitted and the performance is very poor: Accuracy is 55.7%"
   ]
  },
  {
   "cell_type": "code",
   "execution_count": 185,
   "metadata": {},
   "outputs": [],
   "source": [
    "from sklearn.ensemble import GradientBoostingRegressor"
   ]
  },
  {
   "cell_type": "code",
   "execution_count": 235,
   "metadata": {},
   "outputs": [
    {
     "data": {
      "text/plain": [
       "{'n_estimators': 132}"
      ]
     },
     "execution_count": 235,
     "metadata": {},
     "output_type": "execute_result"
    }
   ],
   "source": [
    "GB=GradientBoostingRegressor()\n",
    "\n",
    "params={\"n_estimators\":range(1,150)}\n",
    "\n",
    "grid=GridSearchCV(GB,params,cv=4,scoring=\"neg_mean_squared_error\")\n",
    "\n",
    "grid.fit(xtrain_sc,ytrain)\n",
    "\n",
    "grid.best_params_"
   ]
  },
  {
   "cell_type": "code",
   "execution_count": 250,
   "metadata": {},
   "outputs": [
    {
     "data": {
      "text/plain": [
       "0.7361217661786474"
      ]
     },
     "execution_count": 250,
     "metadata": {},
     "output_type": "execute_result"
    }
   ],
   "source": [
    "GB=GradientBoostingRegressor(n_estimators=132)\n",
    "\n",
    "model=GB.fit(xtrain_sc,ytrain)\n",
    "\n",
    "ypred=model.predict(xtest_sc)\n",
    "\n",
    "r2_score(ytest,ypred)"
   ]
  },
  {
   "cell_type": "markdown",
   "metadata": {},
   "source": [
    "#### Accuracy is 73.6% with XG Boost as well"
   ]
  },
  {
   "cell_type": "markdown",
   "metadata": {},
   "source": [
    "### Random Forest Model"
   ]
  },
  {
   "cell_type": "code",
   "execution_count": 257,
   "metadata": {},
   "outputs": [
    {
     "data": {
      "text/plain": [
       "{'n_estimators': 3}"
      ]
     },
     "execution_count": 257,
     "metadata": {},
     "output_type": "execute_result"
    }
   ],
   "source": [
    "from sklearn.ensemble import RandomForestRegressor\n",
    "\n",
    "RF=RandomForestRegressor()\n",
    "\n",
    "params={\"n_estimators\":range(1,100)}\n",
    "\n",
    "grid=GridSearchCV(RF,params,cv=3,scoring=\"neg_mean_squared_error\")\n",
    "\n",
    "grid.fit(xtrain_sc,ytrain)\n",
    "\n",
    "grid.best_params_\n"
   ]
  },
  {
   "cell_type": "code",
   "execution_count": 259,
   "metadata": {},
   "outputs": [
    {
     "data": {
      "text/plain": [
       "0.6057590014031353"
      ]
     },
     "execution_count": 259,
     "metadata": {},
     "output_type": "execute_result"
    }
   ],
   "source": [
    "RF=RandomForestRegressor(n_estimators=3)\n",
    "\n",
    "model=RF.fit(xtrain_sc,ytrain)\n",
    "\n",
    "ypred=model.predict(xtest_sc)\n",
    "\n",
    "r2_score(ytest,ypred)"
   ]
  },
  {
   "cell_type": "markdown",
   "metadata": {},
   "source": [
    "#### Accuracy of RandomForest is 60.57%"
   ]
  },
  {
   "cell_type": "markdown",
   "metadata": {},
   "source": [
    "#### KNN gives the best accuracy scores. This can be further bagged or boosted to improve the performance.\n",
    "\n"
   ]
  },
  {
   "cell_type": "code",
   "execution_count": 268,
   "metadata": {},
   "outputs": [
    {
     "data": {
      "text/plain": [
       "{'n_estimators': 43}"
      ]
     },
     "execution_count": 268,
     "metadata": {},
     "output_type": "execute_result"
    }
   ],
   "source": [
    "from sklearn.ensemble import AdaBoostRegressor,BaggingRegressor\n",
    "\n",
    "boost=AdaBoostRegressor(base_estimator=knn)\n",
    "\n",
    "params={\"n_estimators\":range(1,100)}\n",
    "\n",
    "grid=GridSearchCV(boost,params,cv=3,scoring=\"neg_mean_squared_error\")\n",
    "\n",
    "grid.fit(xtrain_sc,ytrain)\n",
    "\n",
    "grid.best_params_\n"
   ]
  },
  {
   "cell_type": "code",
   "execution_count": 270,
   "metadata": {},
   "outputs": [
    {
     "data": {
      "text/plain": [
       "-1887.8761355437257"
      ]
     },
     "execution_count": 270,
     "metadata": {},
     "output_type": "execute_result"
    }
   ],
   "source": [
    "grid.best_score_"
   ]
  },
  {
   "cell_type": "code",
   "execution_count": 269,
   "metadata": {},
   "outputs": [
    {
     "data": {
      "text/plain": [
       "0.8130444049184281"
      ]
     },
     "execution_count": 269,
     "metadata": {},
     "output_type": "execute_result"
    }
   ],
   "source": [
    "boost=AdaBoostRegressor(n_estimators=43,base_estimator=knn)\n",
    "\n",
    "boost.fit(xtrain_sc,ytrain)\n",
    "\n",
    "ypred=boost.predict(xtest_sc)\n",
    "\n",
    "r2_score(ytest,ypred)"
   ]
  },
  {
   "cell_type": "markdown",
   "metadata": {},
   "source": [
    "#### Boosted KNN model has an accuracy of 81.3%"
   ]
  },
  {
   "cell_type": "code",
   "execution_count": 278,
   "metadata": {},
   "outputs": [
    {
     "data": {
      "text/plain": [
       "{'n_estimators': 12}"
      ]
     },
     "execution_count": 278,
     "metadata": {},
     "output_type": "execute_result"
    }
   ],
   "source": [
    "bag=BaggingRegressor(base_estimator=knn,random_state=5)\n",
    "\n",
    "params={\"n_estimators\":range(1,100)}\n",
    "\n",
    "grid=GridSearchCV(bag,params,cv=3,scoring=\"neg_mean_squared_error\")\n",
    "\n",
    "grid.fit(xtrain_sc,ytrain)\n",
    "\n",
    "grid.best_params_"
   ]
  },
  {
   "cell_type": "code",
   "execution_count": 272,
   "metadata": {},
   "outputs": [
    {
     "data": {
      "text/plain": [
       "-1975.7747025181027"
      ]
     },
     "execution_count": 272,
     "metadata": {},
     "output_type": "execute_result"
    }
   ],
   "source": [
    "grid.best_score_"
   ]
  },
  {
   "cell_type": "code",
   "execution_count": 279,
   "metadata": {},
   "outputs": [
    {
     "data": {
      "text/plain": [
       "0.8220247692050884"
      ]
     },
     "execution_count": 279,
     "metadata": {},
     "output_type": "execute_result"
    }
   ],
   "source": [
    "bag=BaggingRegressor(n_estimators=12,base_estimator=knn,random_state=5)\n",
    "\n",
    "bag.fit(xtrain_sc,ytrain)\n",
    "\n",
    "ypred=bag.predict(xtest_sc)\n",
    "\n",
    "r2_score(ytest,ypred)"
   ]
  },
  {
   "cell_type": "markdown",
   "metadata": {},
   "source": [
    "#### Bagged KNN gives an accuracy of 82.20%"
   ]
  },
  {
   "cell_type": "code",
   "execution_count": 281,
   "metadata": {},
   "outputs": [],
   "source": [
    "Accuracy_Scores=pd.DataFrame({\"ML_model\":[\"KNN\",\"Bagged_KNN\",\"Boosted_KNN\",\"RandomForest\",\"XG_Boost\",\"Decision Tree\"],\"Accuracy_%age\":[82.89,82.20,81.3,60.57,73.6,55.7]})"
   ]
  },
  {
   "cell_type": "code",
   "execution_count": 282,
   "metadata": {},
   "outputs": [
    {
     "data": {
      "text/html": [
       "<div>\n",
       "<style scoped>\n",
       "    .dataframe tbody tr th:only-of-type {\n",
       "        vertical-align: middle;\n",
       "    }\n",
       "\n",
       "    .dataframe tbody tr th {\n",
       "        vertical-align: top;\n",
       "    }\n",
       "\n",
       "    .dataframe thead th {\n",
       "        text-align: right;\n",
       "    }\n",
       "</style>\n",
       "<table border=\"1\" class=\"dataframe\">\n",
       "  <thead>\n",
       "    <tr style=\"text-align: right;\">\n",
       "      <th></th>\n",
       "      <th>ML_model</th>\n",
       "      <th>Accuracy_%age</th>\n",
       "    </tr>\n",
       "  </thead>\n",
       "  <tbody>\n",
       "    <tr>\n",
       "      <th>0</th>\n",
       "      <td>KNN</td>\n",
       "      <td>82.89</td>\n",
       "    </tr>\n",
       "    <tr>\n",
       "      <th>1</th>\n",
       "      <td>Bagged_KNN</td>\n",
       "      <td>82.20</td>\n",
       "    </tr>\n",
       "    <tr>\n",
       "      <th>2</th>\n",
       "      <td>Boosted_KNN</td>\n",
       "      <td>81.30</td>\n",
       "    </tr>\n",
       "    <tr>\n",
       "      <th>3</th>\n",
       "      <td>RandomForest</td>\n",
       "      <td>60.57</td>\n",
       "    </tr>\n",
       "    <tr>\n",
       "      <th>4</th>\n",
       "      <td>XG_Boost</td>\n",
       "      <td>73.60</td>\n",
       "    </tr>\n",
       "    <tr>\n",
       "      <th>5</th>\n",
       "      <td>Decision Tree</td>\n",
       "      <td>55.70</td>\n",
       "    </tr>\n",
       "  </tbody>\n",
       "</table>\n",
       "</div>"
      ],
      "text/plain": [
       "        ML_model  Accuracy_%age\n",
       "0            KNN          82.89\n",
       "1     Bagged_KNN          82.20\n",
       "2    Boosted_KNN          81.30\n",
       "3   RandomForest          60.57\n",
       "4       XG_Boost          73.60\n",
       "5  Decision Tree          55.70"
      ]
     },
     "execution_count": 282,
     "metadata": {},
     "output_type": "execute_result"
    }
   ],
   "source": [
    "Accuracy_Scores"
   ]
  },
  {
   "cell_type": "code",
   "execution_count": null,
   "metadata": {},
   "outputs": [],
   "source": []
  }
 ],
 "metadata": {
  "kernelspec": {
   "display_name": "Python 3",
   "language": "python",
   "name": "python3"
  },
  "language_info": {
   "codemirror_mode": {
    "name": "ipython",
    "version": 3
   },
   "file_extension": ".py",
   "mimetype": "text/x-python",
   "name": "python",
   "nbconvert_exporter": "python",
   "pygments_lexer": "ipython3",
   "version": "3.7.6"
  }
 },
 "nbformat": 4,
 "nbformat_minor": 4
}
